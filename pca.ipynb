{
 "cells": [
  {
   "cell_type": "markdown",
   "metadata": {
    "collapsed": true
   },
   "source": [
    "# 单个主成分分析python实现"
   ]
  },
  {
   "cell_type": "code",
   "execution_count": 1,
   "metadata": {},
   "outputs": [],
   "source": [
    "import numpy as np\n",
    "import matplotlib.pyplot as plt"
   ]
  },
  {
   "cell_type": "markdown",
   "metadata": {},
   "source": [
    "## 生成随机数据\n",
    "\n",
    "随机生成100个坐标点，横坐标为0-100的一个均匀分布，纵坐标为其一个线性变换增加少量干扰因素"
   ]
  },
  {
   "cell_type": "code",
   "execution_count": 2,
   "metadata": {},
   "outputs": [],
   "source": [
    "data = np.empty((100, 2))\n",
    "data[:, 0] = np.random.uniform(0., 100., size=100)\n",
    "data[:, 1] = 0.75 * data[:, 0] + 3 + np.random.normal(0, 10., size=100)"
   ]
  },
  {
   "cell_type": "code",
   "execution_count": 3,
   "metadata": {},
   "outputs": [
    {
     "data": {
      "image/png": "[encoded data removed]",
      "text/plain": [
       "<Figure size 432x288 with 1 Axes>"
      ]
     },
     "metadata": {
      "needs_background": "light"
     },
     "output_type": "display_data"
    }
   ],
   "source": [
    "plt.scatter(data[:, 0], data[:, 1])\n",
    "plt.show()"
   ]
  },
  {
   "cell_type": "markdown",
   "metadata": {},
   "source": [
    "## 定义工具函数\n",
    "在实现时，需要将数据均值化为0，也就是像$X'=X-\\overline{X}$，并且定义寻找方向向量的函数，寻找方向向量可以通过将向量除以它的二阶范式得到\n"
   ]
  },
  {
   "cell_type": "code",
   "execution_count": 4,
   "metadata": {},
   "outputs": [],
   "source": [
    "def demean(X):\n",
    "    return X - np.mean(X)\n",
    "\n",
    "\n",
    "def direction(w):\n",
    "    return w / np.linalg.norm(w)\n"
   ]
  },
  {
   "cell_type": "markdown",
   "metadata": {},
   "source": [
    "## 实现PCA"
   ]
  },
  {
   "cell_type": "markdown",
   "metadata": {},
   "source": [
    "### 设置超参数\n",
    "设置梯度下降的学习率"
   ]
  },
  {
   "cell_type": "code",
   "execution_count": 5,
   "metadata": {},
   "outputs": [],
   "source": [
    "# 学习率\n",
    "lr = 0.01"
   ]
  },
  {
   "cell_type": "markdown",
   "metadata": {},
   "source": [
    "### 获取映射坐标轴的标准差\n",
    "PCA的本质是把数据映射在某个向量上，这里需要求标准差来反应主成分选择的正确性，标准差越大说明选择的越正确。\n",
    "\n",
    "假设主成分方向向量为$w$，数据样本为$X$，则标准差为$\\sqrt{\\frac{1}{m}(X\\cdot w)^2}$"
   ]
  },
  {
   "cell_type": "code",
   "execution_count": 6,
   "metadata": {},
   "outputs": [],
   "source": [
    "def mapping_standard_deviation(X, w):\n",
    "    dist = X.dot(w.transpose()) ** 2\n",
    "    sqr = np.sqrt(dist.sum() / X.shape[0])\n",
    "    return sqr"
   ]
  },
  {
   "cell_type": "markdown",
   "metadata": {},
   "source": [
    "### 当前梯度计算\n",
    "根据之前推导的公式，计算梯度\n",
    "$$\n",
    "\\frac{\\partial f}{\\partial \\bf{u}}=\\frac{2}{m}X'^T(X'u)\n",
    "$$"
   ]
  },
  {
   "cell_type": "code",
   "execution_count": 7,
   "metadata": {},
   "outputs": [],
   "source": [
    "def grad_calculate(X, w):\n",
    "    grad = X.transpose().dot(X.dot(w)) * 2. / X.shape[0]\n",
    "    return grad\n"
   ]
  },
  {
   "cell_type": "markdown",
   "metadata": {},
   "source": [
    "### 梯度下降\n",
    "输入样本数据，并执行若干个epoch的梯度下降操作。\n",
    "\n",
    "*注意：这里每次修改完w，它可能变成非单位向量，这里需要转化*"
   ]
  },
  {
   "cell_type": "code",
   "execution_count": 8,
   "metadata": {},
   "outputs": [],
   "source": [
    "def get_pca(X):\n",
    "    dem_X = demean(X)\n",
    "    w = np.full(2, 1., dtype=float)\n",
    "    w = direction(w)\n",
    "    history_var = []\n",
    "\n",
    "    epoch = 50\n",
    "    for _ in range(epoch):\n",
    "        loss = mapping_standard_deviation(dem_X, w)\n",
    "        w_grad = grad_calculate(dem_X, w)\n",
    "        w += w_grad * lr\n",
    "        w = direction(w)\n",
    "        history_var.append(loss)\n",
    "    return w, history_var"
   ]
  },
  {
   "cell_type": "markdown",
   "metadata": {},
   "source": [
    "## 分析数据PCA\n",
    "执行封装好的方法"
   ]
  },
  {
   "cell_type": "code",
   "execution_count": 9,
   "metadata": {
    "scrolled": true
   },
   "outputs": [],
   "source": [
    "pca_w, history = get_pca(data)"
   ]
  },
  {
   "cell_type": "markdown",
   "metadata": {
    "pycharm": {
     "name": "#%% md\n"
    }
   },
   "source": [
    "### 生成基向量\n",
    "将数据映射到基向量上，可使方差差最大，输出所有被映射后的点"
   ]
  },
  {
   "cell_type": "code",
   "execution_count": 11,
   "metadata": {
    "scrolled": true
   },
   "outputs": [
    {
     "data": {
      "image/png": "[encoded data removed]",
      "text/plain": [
       "<Figure size 432x288 with 1 Axes>"
      ]
     },
     "metadata": {
      "needs_background": "light"
     },
     "output_type": "display_data"
    }
   ],
   "source": [
    "project_dist = data.dot(pca_w)\n",
    "projected_point = project_dist.reshape(100, 1).dot(pca_w.reshape(1, -1))\n",
    "#projected_point = project_dist * w\n",
    "plt.title('PCA result')\n",
    "plt.scatter(data[:, 0], data[:, 1], alpha=0.5)\n",
    "plt.scatter(projected_point[:, 0], projected_point[:, 1], edgecolors='red', alpha=0.5)\n",
    "plt.show()"
   ]
  },
  {
   "cell_type": "code",
   "execution_count": 12,
   "metadata": {},
   "outputs": [
    {
     "data": {
      "text/plain": [
       "array([0.80068358, 0.59908748])"
      ]
     },
     "execution_count": 12,
     "metadata": {},
     "output_type": "execute_result"
    }
   ],
   "source": [
    "# 基向量\n",
    "pca_w"
   ]
  },
  {
   "cell_type": "markdown",
   "metadata": {
    "pycharm": {
     "name": "#%% md\n"
    }
   },
   "source": [
    "### 检查标准差变化曲线\n",
    "预期结果为方差逐渐变大并收敛"
   ]
  },
  {
   "cell_type": "code",
   "execution_count": 13,
   "metadata": {
    "pycharm": {
     "name": "#%%\n"
    }
   },
   "outputs": [
    {
     "data": {
      "image/png": "[encoded data removed]",
      "text/plain": [
       "<Figure size 432x288 with 1 Axes>"
      ]
     },
     "metadata": {
      "needs_background": "light"
     },
     "output_type": "display_data"
    }
   ],
   "source": [
    "plt.title('standard deviation for single PCA')\n",
    "plt.xlabel(\"epoch\")\n",
    "plt.xlim([0, 20])\n",
    "plt.xticks(np.arange(20))\n",
    "plt.ylabel(\"stand deviation\")\n",
    "plt.plot(np.arange(len(history)), history)\n",
    "plt.savefig('./single PCA standard deviation.jpg')\n",
    "plt.show()"
   ]
  },
  {
   "cell_type": "markdown",
   "metadata": {},
   "source": [
    "### 高维数据降维"
   ]
  },
  {
   "cell_type": "code",
   "execution_count": 14,
   "metadata": {},
   "outputs": [
    {
     "data": {
      "image/png": "[encoded data removed]",
      "text/plain": [
       "<Figure size 432x288 with 1 Axes>"
      ]
     },
     "metadata": {
      "needs_background": "light"
     },
     "output_type": "display_data"
    }
   ],
   "source": [
    "project_dist = np.dot(data, pca_w)\n",
    "projected_point = np.full(data.shape, 0)\n",
    "projected_remain = np.full(data.shape, 0)\n",
    "for i in range(len(data)):\n",
    "    projected_point[i] = data[i].dot(pca_w) * pca_w\n",
    "    projected_remain[i] = data[i] - projected_point[i]\n",
    "plt.title('PCA result')\n",
    "plt.scatter(data[:, 0], data[:, 1], alpha=0.5)\n",
    "plt.scatter(projected_point[:, 0], projected_point[:, 1], edgecolors='red', alpha=0.5)\n",
    "plt.scatter(projected_remain[:, 0], projected_remain[:, 1], edgecolors='green', alpha=0.5)\n",
    "plt.show()"
   ]
  }
 ],
 "metadata": {
  "kernelspec": {
   "display_name": "Python 3",
   "language": "python",
   "name": "python3"
  },
  "language_info": {
   "codemirror_mode": {
    "name": "ipython",
    "version": 3
   },
   "file_extension": ".py",
   "mimetype": "text/x-python",
   "name": "python",
   "nbconvert_exporter": "python",
   "pygments_lexer": "ipython3",
   "version": "3.7.7"
  }
 },
 "nbformat": 4,
 "nbformat_minor": 1
}
